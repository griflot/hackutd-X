{
 "cells": [
  {
   "cell_type": "markdown",
   "metadata": {},
   "source": [
    "Getting values + storing values"
   ]
  },
  {
   "cell_type": "code",
   "execution_count": 17,
   "metadata": {},
   "outputs": [],
   "source": [
    "import pandas as pd\n",
    "import matplotlib.pyplot as plt\n",
    "%matplotlib inline\n",
    "import seaborn as sns\n",
    "#yay\n",
    "\n",
    "data=pd.read_csv('HackUTD-2023-HomeBuyerInfo.csv')\n",
    "data[\"Credit_Pass\"] = data[\"CreditScore\"]>640\n",
    "data[\"LTV_Pass\"] = ((data[\"LoanAmount\"]/data[\"AppraisedValue\"])*100)<80\n",
    "data[\"DTI_Pass\"] = ((data[\"CarPayment\"]+data[\"MonthlyMortgagePayment\"]+data[\"CreditCardPayment\"])/data[\"GrossMonthlyIncome\"])*100<36\n",
    "data[\"FEDTI\"]=(data[\"MonthlyMortgagePayment\"]/data[\"GrossMonthlyIncome\"])*100\n",
    "data[\"Pass\"] = data[\"Credit_Pass\"] & data[\"LTV_Pass\"] & data[\"DTI_Pass\"] & data[\"FEDTI\"]"
   ]
  },
  {
   "cell_type": "markdown",
   "metadata": {},
   "source": [
    "Quick maths"
   ]
  },
  {
   "cell_type": "code",
   "execution_count": 18,
   "metadata": {},
   "outputs": [],
   "source": [
    "def LTVCalc(loan, value):\n",
    "    return (loan/value)*100\n",
    "def DTICalc(loss, pay):\n",
    "    return (loss/pay)*100\n",
    "def FEDTICalc(mortgage, loss):\n",
    "    return (mortgage/loss)*100\n",
    "def maxAcceptableValue(pay):\n",
    "    return pay/.2\n",
    "def minAcceptableDownpay(value):\n",
    "    return value*0.2\n",
    "def maxMortgage(loss):\n",
    "    return loss*0.45"
   ]
  },
  {
   "cell_type": "markdown",
   "metadata": {},
   "source": [
    "Plotting ?"
   ]
  },
  {
   "cell_type": "code",
   "execution_count": 19,
   "metadata": {},
   "outputs": [],
   "source": [
    "#sns.pairplot(data[100:])"
   ]
  },
  {
   "cell_type": "code",
   "execution_count": 22,
   "metadata": {},
   "outputs": [
    {
     "name": "stdout",
     "output_type": "stream",
     "text": [
      "Pay off debt etc etc\n"
     ]
    }
   ],
   "source": [
    "#Tester\n",
    "individualFeedback(888)"
   ]
  },
  {
   "cell_type": "code",
   "execution_count": null,
   "metadata": {},
   "outputs": [],
   "source": [
    "def individualFeedback(n):\n",
    "    curr = data.iloc[n];\n",
    "    if ~curr.get(\"Credit_Pass\"):\n",
    "        print(\"Pay off debt etc etc\");\n",
    "        return None\n",
    "    if ~curr.get(\"LTV_Pass\"):\n",
    "        print(\"you got a LTV problem\")\n",
    "        if LTVCalc(curr.get(\"LoanAmount\"), curr.get(\"AppraisedValue\")) <95:\n",
    "            print(\"max acctpable price: \" + str(maxAcceptableValue(curr.DownPayment)))\n",
    "            print(\"min accptable down payment: \" + str(minAcceptableDownpay(curr.get(\"AppraisedValue\"))))\n",
    "        else:\n",
    "            print(\"absolutly not\");\n",
    "        return None\n",
    "    if ~curr.get(\"DTI_Pass\"):\n",
    "        print(\"you got a dti problm\")\n",
    "        if DTICalc(curr.get(\"CarPayment\")+curr.get(\"CreditCardPayment\")+curr.get(\"StudentLoanPayments\")+curr.get(\"MonthlyMortgagePayment\"), curr.get(\"GrossMonthlyIncome\")) >36:\n",
    "            if(~curr.get(\"FEDTI_Pass\")):\n",
    "                print(\"fedti too high\")\n",
    "                print(\"Better mortgage: \"+ str(maxMortgage(curr.get(\"CarPayment\")+curr.get(\"CreditCardPayment\")+curr.get(\"StudentLoanPayments\"))))\n",
    "            else:\n",
    "                print(\"spend less, get better loans\")\n",
    "        else:\n",
    "            print(\"literally no, hello??\")\n",
    "        return None\n",
    "    if ~curr.get(\"FEDTI_Pass\"):\n",
    "        print(\"fedti too high\")\n",
    "        print(\"Better mortgage: \"+ str(maxMortgage(curr.get(\"CarPayment\")+curr.get(\"CreditCardPayment\")+curr.get(\"StudentLoanPayments\"))))\n"
   ]
  },
  {
   "cell_type": "code",
   "execution_count": null,
   "metadata": {},
   "outputs": [],
   "source": [
    "def printAll():\n",
    "    for x in range(data.shape[0]):\n",
    "        print(str(x) + \": \")\n",
    "        print(\"\\tCredit Pass-\" + str(data.iloc[x].get(\"Credit_Pass\")))\n",
    "        print(\"\\tLTV Pass-\" + str(data.iloc[x].get(\"LTV_Pass\")))\n",
    "        print(\"\\tDTI Pass-\" + str(data.iloc[x].get(\"DTI_Pass\")))\n",
    "        print(\"\\tFEDTI Pass-\" + str(data.iloc[x].get(\"DTI_Pass\")))\n",
    "        print(\"\\tPassing-\" + str(data.iloc[x].get(\"Pass\")))"
   ]
  }
 ],
 "metadata": {
  "kernelspec": {
   "display_name": "Python 3",
   "language": "python",
   "name": "python3"
  },
  "language_info": {
   "codemirror_mode": {
    "name": "ipython",
    "version": 3
   },
   "file_extension": ".py",
   "mimetype": "text/x-python",
   "name": "python",
   "nbconvert_exporter": "python",
   "pygments_lexer": "ipython3",
   "version": "3.12.0"
  }
 },
 "nbformat": 4,
 "nbformat_minor": 2
}
