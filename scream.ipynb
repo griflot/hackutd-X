{
 "cells": [
  {
   "cell_type": "markdown",
   "metadata": {},
   "source": [
    "Getting values + storing values"
   ]
  },
  {
   "cell_type": "code",
   "execution_count": 33,
   "metadata": {},
   "outputs": [],
   "source": [
    "import pandas as pd\n",
    "\n",
    "data=pd.read_csv('HackUTD-2023-HomeBuyerInfo.csv')\n"
   ]
  },
  {
   "cell_type": "code",
   "execution_count": 34,
   "metadata": {},
   "outputs": [
    {
     "data": {
      "text/plain": [
       "3103.0"
      ]
     },
     "execution_count": 34,
     "metadata": {},
     "output_type": "execute_result"
    }
   ],
   "source": [
    "data.iloc[0].get(\"GrossMonthlyIncome\")"
   ]
  },
  {
   "cell_type": "code",
   "execution_count": 35,
   "metadata": {},
   "outputs": [],
   "source": [
    "def calcLTV(loan, value):\n",
    "    return (loan/value)*100\n",
    "def calcDTI(income, car, creditCard, morgage):\n",
    "    loss=car+creditCard+morgage\n",
    "    return (loss/income)*100\n",
    "def calcFEDTI(income, morgage):\n",
    "    return (morgage/income)*100"
   ]
  },
  {
   "cell_type": "code",
   "execution_count": 36,
   "metadata": {},
   "outputs": [],
   "source": [
    "def canBuyHouse(id):\n",
    "    currAcc=data.iloc[id]\n",
    "    if currAcc.get(\"CreditScore\")<640:\n",
    "        return -4;\n",
    "    if calcLTV(currAcc.get(\"LoanAmount\"), currAcc.get(\"AppraisedValue\")) >80:\n",
    "        return -3;\n",
    "    if calcDTI(currAcc.get(\"GrossMonthlyIncome\"), currAcc.get(\"CarPayment\"), currAcc.get(\"CreditCardPayment\"), currAcc.get(\"MonthlyMortgagePayment\")>43):\n",
    "        return -2;\n",
    "    if calcFEDTI(currAcc.get(\"GrossMonthlyIncome\"), currAcc.get(\"MonthlyMortgagePayment\")) >28:\n",
    "        return -1;\n",
    "\n",
    "    return 10\n",
    "    "
   ]
  },
  {
   "cell_type": "code",
   "execution_count": 42,
   "metadata": {},
   "outputs": [
    {
     "ename": "TypeError",
     "evalue": "can only concatenate str (not \"int\") to str",
     "output_type": "error",
     "traceback": [
      "\u001b[1;31m---------------------------------------------------------------------------\u001b[0m",
      "\u001b[1;31mTypeError\u001b[0m                                 Traceback (most recent call last)",
      "\u001b[1;32mc:\\Users\\Wen\\OneDrive\\Documents\\School\\Fall2023\\HackUTD\\hackutd-X\\scream.ipynb Cell 6\u001b[0m line \u001b[0;36m2\n\u001b[0;32m      <a href='vscode-notebook-cell:/c%3A/Users/Wen/OneDrive/Documents/School/Fall2023/HackUTD/hackutd-X/scream.ipynb#W5sZmlsZQ%3D%3D?line=0'>1</a>\u001b[0m \u001b[39mfor\u001b[39;00m x \u001b[39min\u001b[39;00m \u001b[39mrange\u001b[39m(data\u001b[39m.\u001b[39mshape[\u001b[39m0\u001b[39m]):\n\u001b[1;32m----> <a href='vscode-notebook-cell:/c%3A/Users/Wen/OneDrive/Documents/School/Fall2023/HackUTD/hackutd-X/scream.ipynb#W5sZmlsZQ%3D%3D?line=1'>2</a>\u001b[0m     \u001b[39mprint\u001b[39m( \u001b[39mstr\u001b[39;49m(x) \u001b[39m+\u001b[39;49m \u001b[39m'\u001b[39;49m\u001b[39m: \u001b[39;49m\u001b[39m'\u001b[39;49m \u001b[39m+\u001b[39;49m canBuyHouse(x))\n",
      "\u001b[1;31mTypeError\u001b[0m: can only concatenate str (not \"int\") to str"
     ]
    }
   ],
   "source": [
    "for x in range(data.shape[0]):\n",
    "    print( str(x) + ': ' + cantBuyHouse(x))"
   ]
  }
 ],
 "metadata": {
  "kernelspec": {
   "display_name": "Python 3",
   "language": "python",
   "name": "python3"
  },
  "language_info": {
   "codemirror_mode": {
    "name": "ipython",
    "version": 3
   },
   "file_extension": ".py",
   "mimetype": "text/x-python",
   "name": "python",
   "nbconvert_exporter": "python",
   "pygments_lexer": "ipython3",
   "version": "3.12.0"
  }
 },
 "nbformat": 4,
 "nbformat_minor": 2
}
